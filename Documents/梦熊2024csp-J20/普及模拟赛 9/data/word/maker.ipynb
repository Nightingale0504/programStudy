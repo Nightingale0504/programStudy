{
 "cells": [
  {
   "cell_type": "code",
   "execution_count": 4,
   "metadata": {},
   "outputs": [],
   "source": [
    "import random\n",
    "import string\n",
    "\n",
    "def generate_word(length):\n",
    "    return ''.join(random.choices(string.ascii_lowercase, k=length))\n",
    "\n",
    "def generate_typo(word):\n",
    "    typo_type = random.choice(['missing', 'extra', 'wrong'])\n",
    "    if typo_type == 'missing' and len(word) > 1:\n",
    "        pos = random.randint(0, len(word) - 1)\n",
    "        return word[:pos] + word[pos+1:]\n",
    "    elif typo_type == 'extra':\n",
    "        pos = random.randint(0, len(word))\n",
    "        extra_char = random.choice(string.ascii_lowercase)\n",
    "        return word[:pos] + extra_char + word[pos:]\n",
    "    elif typo_type == 'wrong':\n",
    "        pos = random.randint(0, len(word) - 1)\n",
    "        wrong_char = random.choice(string.ascii_lowercase.replace(word[pos], ''))\n",
    "        return word[:pos] + wrong_char + word[pos+1:]\n",
    "    return word  # If the word is too short for a missing typo, return the original word\n",
    "\n",
    "def generate_test_case():\n",
    "    word_list = []\n",
    "    for _ in range(random.randint(900, 1000)):\n",
    "        word_list.append(generate_word(random.randint(20, 100)))\n",
    "    \n",
    "    check_word = generate_word(random.randint(10, 20))\n",
    "    if random.random() < 0.5:\n",
    "        check_word = generate_typo(random.choice(word_list))\n",
    "    \n",
    "    return check_word, word_list\n",
    "\n",
    "def write_test_cases():\n",
    "    for i in range(5, 6):\n",
    "        check_word, word_list = generate_test_case()\n",
    "        filename = f\"{i:02}.in\"\n",
    "        with open(filename, 'w') as f:\n",
    "            f.write(check_word + '\\n')\n",
    "            f.write(str(len(word_list)) + '\\n')\n",
    "            for word in word_list:\n",
    "                f.write(word + '\\n')\n",
    "\n",
    "if __name__ == \"__main__\":\n",
    "    write_test_cases()\n"
   ]
  }
 ],
 "metadata": {
  "kernelspec": {
   "display_name": "Python 3",
   "language": "python",
   "name": "python3"
  },
  "language_info": {
   "codemirror_mode": {
    "name": "ipython",
    "version": 3
   },
   "file_extension": ".py",
   "mimetype": "text/x-python",
   "name": "python",
   "nbconvert_exporter": "python",
   "pygments_lexer": "ipython3",
   "version": "3.11.4"
  }
 },
 "nbformat": 4,
 "nbformat_minor": 2
}
