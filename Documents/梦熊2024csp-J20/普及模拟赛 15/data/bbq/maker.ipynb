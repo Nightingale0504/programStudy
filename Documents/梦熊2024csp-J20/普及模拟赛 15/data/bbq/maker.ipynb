{
 "cells": [
  {
   "cell_type": "code",
   "execution_count": 25,
   "metadata": {},
   "outputs": [
    {
     "name": "stdout",
     "output_type": "stream",
     "text": [
      "Generated data/bbq10.in\n"
     ]
    }
   ],
   "source": [
    "import random\n",
    "import string\n",
    "import os\n",
    "\n",
    "def generate_palindrome_substring(length):\n",
    "    \"\"\"生成一个长度为length的回文子串\"\"\"\n",
    "    half = ''.join(random.choice(string.ascii_lowercase) for _ in range(length // 2))\n",
    "    if length % 2 == 0:\n",
    "        return half + half[::-1]\n",
    "    else:\n",
    "        return half + random.choice(string.ascii_lowercase) + half[::-1]\n",
    "\n",
    "def generate_random_string(n, palindrome_length):\n",
    "    \"\"\"生成一个长度为n的随机字符串，并包含一个指定长度的回文子串\"\"\"\n",
    "    if palindrome_length > n:\n",
    "        raise ValueError(\"palindrome_length should be less than or equal to n\")\n",
    "    \n",
    "    start = random.randint(0, n - palindrome_length)\n",
    "    end = start + palindrome_length\n",
    "    \n",
    "    random_str = ''.join(random.choice(string.ascii_lowercase) for _ in range(n))\n",
    "    palindrome = generate_palindrome_substring(palindrome_length)\n",
    "    \n",
    "    return random_str[:start] + palindrome + random_str[end:]\n",
    "\n",
    "def generate_queries(n, q):\n",
    "    \"\"\"生成q个查询，每个查询为一个随机的子串范围\"\"\"\n",
    "    queries = []\n",
    "    for _ in range(q):\n",
    "        l = random.randint(1, n)\n",
    "        r = random.randint(l, n)\n",
    "        queries.append((l, r))\n",
    "    return queries\n",
    "\n",
    "def write_to_file(filename, s, queries):\n",
    "    \"\"\"将生成的字符串和查询写入指定文件\"\"\"\n",
    "    with open(filename, 'w') as f:\n",
    "        f.write(f\"{len(s)} {len(queries)}\\n\")\n",
    "        f.write(f\"{s}\\n\")\n",
    "        for l, r in queries:\n",
    "            f.write(f\"{l} {r}\\n\")\n",
    "\n",
    "def main():\n",
    "    n = 1000000  # 字符串长度\n",
    "    palindrome_length = n  # 回文子串长度\n",
    "    q = 1000000  # 查询数量\n",
    "\n",
    "    num_files = 1  # 生成文件数量\n",
    "    output_dir = \"data/\"  # 输出目录\n",
    "\n",
    "    os.makedirs(output_dir, exist_ok=True)\n",
    "    \n",
    "    for i in range(10, num_files + 10):\n",
    "        random_str = generate_random_string(n, palindrome_length)\n",
    "        queries = generate_queries(n, q)\n",
    "        filename = os.path.join(output_dir, f\"bbq{i}.in\")\n",
    "        write_to_file(filename, random_str, queries)\n",
    "        print(f\"Generated {filename}\")\n",
    "\n",
    "if __name__ == \"__main__\":\n",
    "    main()"
   ]
  }
 ],
 "metadata": {
  "kernelspec": {
   "display_name": "Python 3",
   "language": "python",
   "name": "python3"
  },
  "language_info": {
   "codemirror_mode": {
    "name": "ipython",
    "version": 3
   },
   "file_extension": ".py",
   "mimetype": "text/x-python",
   "name": "python",
   "nbconvert_exporter": "python",
   "pygments_lexer": "ipython3",
   "version": "3.11.4"
  }
 },
 "nbformat": 4,
 "nbformat_minor": 2
}
